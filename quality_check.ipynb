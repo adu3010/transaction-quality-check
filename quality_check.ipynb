import pandas as pd
from sklearn.metrics import classification_report

def generate_report(input_file, output_file):
    # Load dataset
    df = pd.read_csv(input_file)
    
    # Ensure required columns exist
    if not {'category', 'predicted_category'}.issubset(df.columns):
        raise ValueError("Dataset must contain 'category' and 'predicted_category' columns.")

    # Generate classification report
    report = classification_report(df['category'], df['predicted_category'])

    # Save to file
    with open(output_file, 'w') as f:
        f.write(report)

if __name__ == "__main__":
    # Define input/output files
    input_file = "dataset_part1.csv"
    output_file = "report.txt"

    # Generate the report
    generate_report(input_file, output_file)
    print(f"Classification report saved to {output_file}")
