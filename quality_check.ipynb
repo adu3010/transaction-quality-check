{
 "cells": [
  {
   "cell_type": "code",
   "execution_count": null,
   "id": "f66906a7-788d-4c7d-a2ab-ba0fb7ae5936",
   "metadata": {},
   "outputs": [],
   "source": [
    "import pandas as pd\n",
    "from sklearn.metrics import classification_report\n",
    "\n",
    "def generate_report(input_file, output_file):\n",
    "    # Load dataset\n",
    "    df = pd.read_csv(input_file)\n",
    "    \n",
    "    # Ensure required columns exist\n",
    "    if not {'category', 'predicted_category'}.issubset(df.columns):\n",
    "        raise ValueError(\"Dataset must contain 'category' and 'predicted_category' columns.\")\n",
    "\n",
    "    # Generate classification report\n",
    "    report = classification_report(df['category'], df['predicted_category'])\n",
    "\n",
    "    # Save to file\n",
    "    with open(output_file, 'w') as f:\n",
    "        f.write(report)\n",
    "\n",
    "if __name__ == \"__main__\":\n",
    "    # Define input/output files\n",
    "    input_file = \"dataset_part1.csv\"\n",
    "    output_file = \"report.txt\"\n",
    "\n",
    "    # Generate the report\n",
    "    generate_report(input_file, output_file)\n",
    "    print(f\"Classification report saved to {output_file}\")"
   ]
  }
 ],
 "metadata": {
  "kernelspec": {
   "display_name": "Python 3 (ipykernel)",
   "language": "python",
   "name": "python3"
  },
  "language_info": {
   "codemirror_mode": {
    "name": "ipython",
    "version": 3
   },
   "file_extension": ".py",
   "mimetype": "text/x-python",
   "name": "python",
   "nbconvert_exporter": "python",
   "pygments_lexer": "ipython3",
   "version": "3.12.7"
  }
 },
 "nbformat": 4,
 "nbformat_minor": 5
}
